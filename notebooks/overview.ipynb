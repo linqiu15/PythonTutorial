{
 "cells": [
  {
   "cell_type": "markdown",
   "metadata": {},
   "source": [
    "# Overview of Python Language"
   ]
  },
  {
   "cell_type": "markdown",
   "metadata": {},
   "source": [
    "## Sources"
   ]
  },
  {
   "cell_type": "markdown",
   "metadata": {},
   "source": [
    "### learning python on github or websites for beginners\n",
    "- [python3 on w3schools](https://www.w3schools.com/python/)\n",
    "- [learn-python](https://github.com/trekhleb/learn-python)\n",
    "- [learn-python3](https://github.com/jerry-git/learn-python3)\n",
    "\n",
    "### finding the solutions to your puzzles(start using English)\n",
    "- [Bing](https://www.bing.com/) or [Google](https://www.google.com/)\n",
    "- [github](https://github.com/), [Stackoverflow](https://stackoverflow.com/), [Reddit](https://www.reddit.com/)"
   ]
  },
  {
   "cell_type": "markdown",
   "metadata": {},
   "source": [
    "## About Programming "
   ]
  },
  {
   "cell_type": "markdown",
   "metadata": {},
   "source": [
    "There are three main Paradigms for programming: \n",
    "- [Procedural programming](https://en.wikipedia.org/wiki/Procedural_programming): [Low-level programming](https://en.wikipedia.org/wiki/Low-level_programming_language)(Machine codes, Assembly language...) and [High-level programming](https://en.wikipedia.org/wiki/High-level_programming_language)(Fortran, C...)\n",
    "- [Functional programming](https://en.wikipedia.org/wiki/Functional_programming): [Wolfram Language](https://www.wolfram.com/mathematica/), [Lisp](https://lisp-lang.org/) ...\n",
    "- [Object-oriented programming](https://en.wikipedia.org/wiki/Object-oriented_programming)(OOP): [C++](https://www.cplusplus.com/), [Python](https://www.python.org/), [Java](https://www.java.com/zh-CN/) and so on.\n",
    "- [Dynamic programming language](https://en.wikipedia.org/wiki/Dynamic_programming_language): [Julia](https://julialang.org/) ...\n",
    "\n",
    "Of course, most of the above languages are multi-paradigm languages. And for a better understanding the phenomenologies of the above languages, there are some posts that may be helpful and vivid:\n",
    "- [Functional, Object-Oriented, and Procedural Programming](https://levelup.gitconnected.com/functional-object-oriented-procedural-programming-644feda5bcfc)\n",
    "- [How to explain object-oriented programming concepts to a 6-year-old](https://www.freecodecamp.org/news/object-oriented-programming-concepts-21bb035f7260/)\n",
    "\n",
    "There are several main features that discriminate Object-oriented progamming language from others(the deoms below come from [How to explain object-oriented programming concepts to a 6-year-old](https://www.freecodecamp.org/news/object-oriented-programming-concepts-21bb035f7260/)):\n",
    "-  **Encapsulation**\n",
    "\n",
    "![encapsulation](../images/encapsulation.png)\n",
    "<p align = \"center\">\n",
    "<i>You can feed the cat. But you can’t directly change how hungry the cat is.</i>\n",
    "</p>\n",
    "\n",
    "- **Abstraction**\n",
    "\n",
    "![abstraction](../images//abstraction.png)\n",
    "<p align = \"center\">\n",
    "<i>Cell phones are complex. But using them is simple.</i>\n",
    "</p>\n",
    "\n",
    "- **Inheritance**\n",
    "\n",
    "![inheritance](../images/inheritance.png)\n",
    "<p align = \"center\">\n",
    "<i>A private teacher is a type of teacher. And any teacher is a type of Person.</i>\n",
    "</p>\n",
    "\n",
    "- **Polymorphism**\n",
    "\n",
    "![polymorphism](../images/polymorphism.png)\n",
    "<p align = \"center\">\n",
    "<i>Triangle, Circle, and Rectangle now can be used in the same collection</i>\n",
    "</p>\n",
    "\n",
    "The characteristics mentioned above lead to some [Advantages and Disadvantages of OOP](https://www.geeksforgeeks.org/benefits-advantages-of-oop/#:~:text=Benefits%20of%20OOP&text=OOP%20language%20allows%20to%20break,from%20small%20to%20large%20systems.):\n",
    "- Pros\n",
    "    + [Devide and Conquer](https://en.wikipedia.org/wiki/Divide-and-conquer_algorithm)\n",
    "    + **Reusability** \n",
    "    + Easier to develope to larger system\n",
    "    + Easier troubleshooting, Flexibility, Effective as highlighted in [4 Advantages of Object-Oriented Programming](https://www.roberthalf.com/blog/salaries-and-skills/4-advantages-of-object-oriented-programming)\n",
    "    + ...\n",
    "- Cons\n",
    "    + May not appliable for small problems\n",
    "    + ..."
   ]
  },
  {
   "cell_type": "markdown",
   "metadata": {},
   "source": [
    "## Example"
   ]
  },
  {
   "cell_type": "markdown",
   "metadata": {},
   "source": [
    "Let's think about one problem: *how to put an elephant into a refrigerator?*\n",
    "\n",
    "An intuitive solution(by most of us) to the problem is to devide such an process into several steps(**usually feated by actions**)but usually comes with much more issues and make it a mess:\n",
    "\n",
    "1. open the refrigerator: what kind of refrigerator will be provided? Is it big enough? \n",
    "\n",
    "2. put the elephant into the refrigerator: How to put? put the whole once or cut into pieces? What kind of tools will be used?\n",
    "\n",
    "3. close the refrigerator: will the elephant rush out of the refrigerator?\n",
    "\n",
    "By procedural programming, we often put all of the above considerations into one code block and think about circumstances as many as possible; or collecting some manipulations into function blocks to make the problem simpler as the functional programming does. However, imagine that you are asked to put the whole elephant into the refrigerator this time but in pieces next time and how will you deal with it? You may rewrite or even write another corresponding code snippets to meet the need! But when more unknown requirements come in, your codes will become longer and longer which is very hard to recognize and use.  "
   ]
  },
  {
   "cell_type": "markdown",
   "metadata": {},
   "source": []
  }
 ],
 "metadata": {
  "interpreter": {
   "hash": "31f2aee4e71d21fbe5cf8b01ff0e069b9275f58929596ceb00d14d90e3e16cd6"
  },
  "kernelspec": {
   "display_name": "Julia 1.7.2",
   "language": "julia",
   "name": "julia-1.7"
  },
  "language_info": {
   "file_extension": ".jl",
   "mimetype": "application/julia",
   "name": "julia",
   "version": "1.7.2"
  }
 },
 "nbformat": 4,
 "nbformat_minor": 4
}
