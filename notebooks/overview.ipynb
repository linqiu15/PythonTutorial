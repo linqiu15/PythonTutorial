{
 "cells": [
  {
   "cell_type": "markdown",
   "metadata": {},
   "source": [
    "# Overview of Python Language\n"
   ]
  },
  {
   "cell_type": "markdown",
   "metadata": {},
   "source": [
    "## Sources\n"
   ]
  },
  {
   "cell_type": "markdown",
   "metadata": {},
   "source": [
    "### learning python on github or websites for beginners\n",
    "\n",
    "- [廖雪峰的Python教程](https://www.liaoxuefeng.com/wiki/1016959663602400)\n",
    "- [python3 on w3schools](https://www.w3schools.com/python/)\n",
    "- [learn-python](https://github.com/trekhleb/learn-python)\n",
    "- [learn-python3](https://github.com/jerry-git/learn-python3)\n",
    "\n",
    "### finding the solutions to your puzzles(start using English)\n",
    "\n",
    "- [Bing](https://www.bing.com/) or [Google](https://www.google.com/)\n",
    "- [**github**](https://github.com/), [**Stackoverflow**](https://stackoverflow.com/), [Reddit](https://www.reddit.com/)\n",
    "\n",
    "### practise and practise!\n",
    "- [Leetcode](https://leetcode.com/) or other [OJ Websites](https://blog.csdn.net/huaqiao_qz/article/details/105302069)\n"
   ]
  },
  {
   "cell_type": "markdown",
   "metadata": {},
   "source": [
    "## About Programming\n"
   ]
  },
  {
   "cell_type": "markdown",
   "metadata": {},
   "source": [
    "There are three main Paradigms for programming:\n",
    "\n",
    "- [Procedural programming](https://en.wikipedia.org/wiki/Procedural_programming): [Low-level programming](https://en.wikipedia.org/wiki/Low-level_programming_language)(Machine codes, Assembly language...) and [High-level programming](https://en.wikipedia.org/wiki/High-level_programming_language)(Fortran, C...)\n",
    "- [Functional programming](https://en.wikipedia.org/wiki/Functional_programming): [Wolfram Language](https://www.wolfram.com/mathematica/), [Lisp](https://lisp-lang.org/) ...\n",
    "- [Object-oriented programming](https://en.wikipedia.org/wiki/Object-oriented_programming)(OOP): [C++](https://www.cplusplus.com/), [Python](https://www.python.org/), [Java](https://www.java.com/zh-CN/) and so on.\n",
    "- [Dynamic programming language](https://en.wikipedia.org/wiki/Dynamic_programming_language): [Julia](https://julialang.org/) ...\n",
    "\n",
    "Of course, most of the above languages are multi-paradigm languages. And for a better understanding of the phenomenologies of the above languages, there are some posts that may be helpful and vivid:\n",
    "\n",
    "- [Functional, Object-Oriented, and Procedural Programming](https://levelup.gitconnected.com/functional-object-oriented-procedural-programming-644feda5bcfc)\n",
    "- [How to explain object-oriented programming concepts to a 6-year-old](https://www.freecodecamp.org/news/object-oriented-programming-concepts-21bb035f7260/)\n",
    "\n",
    "There are several main features that discriminate Object-oriented progamming language from others(the deoms below come from [How to explain object-oriented programming concepts to a 6-year-old](https://www.freecodecamp.org/news/object-oriented-programming-concepts-21bb035f7260/)):\n",
    "\n",
    "- **Encapsulation**\n",
    "\n",
    "![encapsulation](../images/encapsulation.png)\n",
    "\n",
    "<p align = \"center\">\n",
    "<i>You can feed the cat. But you can’t directly change how hungry the cat is.</i>\n",
    "</p>\n",
    "\n",
    "- **Abstraction**\n",
    "\n",
    "![abstraction](../images/abstraction.png)\n",
    "\n",
    "<p align = \"center\">\n",
    "<i>Cell phones are complex. But using them is simple.</i>\n",
    "</p>\n",
    "\n",
    "- **Inheritance**\n",
    "\n",
    "![inheritance](../images/inheritance.png)\n",
    "\n",
    "<p align = \"center\">\n",
    "<i>A private teacher is a type of teacher. And any teacher is a type of Person.</i>\n",
    "</p>\n",
    "\n",
    "- **Polymorphism**\n",
    "\n",
    "![polymorphism](../images/polymorphism.png)\n",
    "\n",
    "<p align = \"center\">\n",
    "<i>Triangle, Circle, and Rectangle now can be used in the same collection</i>\n",
    "</p>\n",
    "\n",
    "The characteristics mentioned above lead to some [Advantages and Disadvantages of OOP](https://www.geeksforgeeks.org/benefits-advantages-of-oop/#:~:text=Benefits%20of%20OOP&text=OOP%20language%20allows%20to%20break,from%20small%20to%20large%20systems.):\n",
    "\n",
    "- Pros\n",
    "  - [Devide and Conquer](https://en.wikipedia.org/wiki/Divide-and-conquer_algorithm)\n",
    "  - **Reusability**\n",
    "  - Easier to develope to larger system\n",
    "  - Easier troubleshooting, Flexibility, Effective as highlighted in [4 Advantages of Object-Oriented Programming](https://www.roberthalf.com/blog/salaries-and-skills/4-advantages-of-object-oriented-programming)\n",
    "  - ...\n",
    "- Cons\n",
    "  - May not appliable for small problems\n",
    "  - ...\n"
   ]
  },
  {
   "cell_type": "markdown",
   "metadata": {
    "jp-MarkdownHeadingCollapsed": true,
    "tags": []
   },
   "source": [
    "## Example\n"
   ]
  },
  {
   "cell_type": "markdown",
   "metadata": {},
   "source": [
    "Let's think about one problem: _how to put an elephant into a refrigerator?_\n",
    "\n",
    "An intuitive solution(by most of us) to the problem is to devide such an process into several steps(**usually featured by actions**) but usually comes with much more issues later and make it a mess:\n",
    "\n",
    "1. open the refrigerator: what kind of refrigerator will be provided? Is it big enough?...\n",
    "\n",
    "2. put the elephant into the refrigerator: How to put? put the whole once or cut into pieces? What kind of tools will be used?...\n",
    "\n",
    "3. close the refrigerator: will the elephant rush out of the refrigerator?...\n",
    "\n",
    "By procedural programming, we often put all of the above considerations into one code block and anticipates circumstances as many as possible; or collecting some manipulations into function blocks to make the problem simpler as the functional programming does. However, imagine that you are asked to put the whole elephant into the refrigerator or freezer this time but in pieces next time and how will you deal with it? You may rewrite or even write another corresponding code snippets to meet the need! But when more unknown requirements come in, your codes will become longer and longer which is very hard to recognize and use.\n"
   ]
  },
  {
   "cell_type": "markdown",
   "metadata": {},
   "source": [
    "What about OOP? First, we should know that the question \"how to put an elephant into a refrigerator?\" is a very abstract problem. There is no any information about the elephant/refrigerator and thus there are many possible circumstances. If more information told, you can, of course, write a very precise code that fits and **only** fits such a need.\n",
    "\n",
    "So, to meet all possible circumstances and to extend to future use easilier, we should also think about it **abstractly**. In OOP design, the problem may contain still three steps or states(this is critical also):\n",
    "\n",
    "1. refrigerator opening\n",
    "\n",
    "2. elephant entering into the refrigerator(do not imagine any actions like walking or jumping, the elephants just moved from outsides to insides)\n",
    "\n",
    "3. refrigerator closing\n",
    "\n",
    "If we want to use pseudo-codes to describe these states, they may be like: `refrigerator.open()`, `load(refrigerator,elephant)`,`refrigerator.close()`. Notice that I do not tell any implementations about these functions of subjects and they are just what called **interfaces** and the functions and objects can be easily modified or extended. And also do notice the differences between functional programming and OOP!\n",
    "\n",
    "![overview](../draw/overview.png)\n"
   ]
  },
  {
   "cell_type": "markdown",
   "metadata": {},
   "source": [
    "**In one word, the OOP requires us to construct objects(may not real) and simulate their interactions which is what truely happens in the world!**\n"
   ]
  },
  {
   "cell_type": "markdown",
   "metadata": {},
   "source": [
    "### demo codes\n"
   ]
  },
  {
   "cell_type": "code",
   "execution_count": 1,
   "metadata": {},
   "outputs": [],
   "source": [
    "class Refrigerator:\n",
    "    def __init__(self, size: float, shape: str, lock: bool):\n",
    "        self.size = size\n",
    "        self.shape = shape\n",
    "        self.lock = lock\n",
    "\n",
    "    def getsize(self):\n",
    "        return self.size\n",
    "\n",
    "    def setsize(self, size: float):\n",
    "        self.size = size\n",
    "\n",
    "    def open(self):\n",
    "        self.lock = False\n",
    "\n",
    "    def close(self):\n",
    "        self.lock = True\n",
    "\n",
    "    def isopen(self):\n",
    "        return not self.lock\n",
    "\n",
    "\n",
    "class Elephant:\n",
    "    def __init__(self, size: float, shape: str):\n",
    "        self.size = size\n",
    "        self.shape = shape\n",
    "\n",
    "    def getsize(self):\n",
    "        return self.size\n",
    "\n",
    "    def setsize(self, size: float):\n",
    "        self.size = size\n",
    "\n",
    "    def cut(self):\n",
    "        self.shape = \"Piece\"\n",
    "        self.size /= 2\n"
   ]
  },
  {
   "cell_type": "code",
   "execution_count": 2,
   "metadata": {},
   "outputs": [],
   "source": [
    "def load(rf: Refrigerator, el: Elephant):\n",
    "    if not rf.isopen():\n",
    "        raise ValueError(\"The refrigerator is close!\")\n",
    "    if rf.getsize() < el.getsize():\n",
    "        raise ValueError(\"The elephant is larger than the refrigerator!\")\n",
    "    rf.setsize(rf.getsize() - el.getsize())"
   ]
  },
  {
   "cell_type": "code",
   "execution_count": 3,
   "metadata": {},
   "outputs": [],
   "source": [
    "my_refrigerator = Refrigerator(100, \"Square\", True)"
   ]
  },
  {
   "cell_type": "code",
   "execution_count": 4,
   "metadata": {},
   "outputs": [
    {
     "data": {
      "text/plain": [
       "100"
      ]
     },
     "execution_count": 4,
     "metadata": {},
     "output_type": "execute_result"
    }
   ],
   "source": [
    "my_refrigerator.getsize()\n"
   ]
  },
  {
   "cell_type": "code",
   "execution_count": 5,
   "metadata": {},
   "outputs": [
    {
     "data": {
      "text/plain": [
       "False"
      ]
     },
     "execution_count": 5,
     "metadata": {},
     "output_type": "execute_result"
    }
   ],
   "source": [
    "my_refrigerator.isopen()"
   ]
  },
  {
   "cell_type": "code",
   "execution_count": 6,
   "metadata": {},
   "outputs": [],
   "source": [
    "my_elephant = Elephant(30, \"Round\")\n"
   ]
  },
  {
   "cell_type": "code",
   "execution_count": 7,
   "metadata": {},
   "outputs": [
    {
     "data": {
      "text/plain": [
       "30"
      ]
     },
     "execution_count": 7,
     "metadata": {},
     "output_type": "execute_result"
    }
   ],
   "source": [
    "my_elephant.getsize()\n"
   ]
  },
  {
   "cell_type": "code",
   "execution_count": 8,
   "metadata": {},
   "outputs": [],
   "source": [
    "def manipulate(rf: Refrigerator, el: Elephant):\n",
    "    rf.open()\n",
    "    load(rf, el)\n",
    "    rf.close()"
   ]
  },
  {
   "cell_type": "code",
   "execution_count": 9,
   "metadata": {},
   "outputs": [],
   "source": [
    "manipulate(my_refrigerator, my_elephant)"
   ]
  },
  {
   "cell_type": "code",
   "execution_count": 10,
   "metadata": {},
   "outputs": [
    {
     "data": {
      "text/plain": [
       "70"
      ]
     },
     "execution_count": 10,
     "metadata": {},
     "output_type": "execute_result"
    }
   ],
   "source": [
    "my_refrigerator.getsize()\n"
   ]
  },
  {
   "cell_type": "code",
   "execution_count": 11,
   "metadata": {},
   "outputs": [],
   "source": [
    "def load(rf: Refrigerator, el: Elephant):\n",
    "    if not rf.isopen():\n",
    "        raise ValueError(\"The refrigerator is close!\")\n",
    "\n",
    "    el.cut()  # cutting the elephant in to pieces to save space\n",
    "    if rf.getsize() < el.getsize():\n",
    "        raise ValueError(\"The elephant is larger than the refrigerator!\")\n",
    "    rf.setsize(rf.getsize() - el.getsize())"
   ]
  },
  {
   "cell_type": "code",
   "execution_count": 12,
   "metadata": {},
   "outputs": [],
   "source": [
    "my_refrigerator_next = Refrigerator(100, \"Square\", True)\n"
   ]
  },
  {
   "cell_type": "code",
   "execution_count": 13,
   "metadata": {},
   "outputs": [],
   "source": [
    "my_elephant_next = Elephant(30, \"Round\")\n"
   ]
  },
  {
   "cell_type": "code",
   "execution_count": 14,
   "metadata": {},
   "outputs": [],
   "source": [
    "manipulate(my_refrigerator_next, my_elephant_next)\n"
   ]
  },
  {
   "cell_type": "code",
   "execution_count": 15,
   "metadata": {},
   "outputs": [
    {
     "data": {
      "text/plain": [
       "85.0"
      ]
     },
     "execution_count": 15,
     "metadata": {},
     "output_type": "execute_result"
    }
   ],
   "source": [
    "my_refrigerator_next.getsize()\n"
   ]
  },
  {
   "cell_type": "markdown",
   "metadata": {},
   "source": [
    "We can see that it is easier to modify any function or add features to our current Objects(Class) like Refrigerator and Elephant, which is the goal of OOP:**Reusability**!"
   ]
  },
  {
   "cell_type": "markdown",
   "metadata": {
    "tags": []
   },
   "source": [
    "## HW"
   ]
  },
  {
   "cell_type": "markdown",
   "metadata": {},
   "source": [
    "Finish reading [this section](https://www.liaoxuefeng.com/wiki/1016959663602400/1017495723838528)."
   ]
  },
  {
   "cell_type": "code",
   "execution_count": null,
   "metadata": {},
   "outputs": [],
   "source": []
  }
 ],
 "metadata": {
  "interpreter": {
   "hash": "31f2aee4e71d21fbe5cf8b01ff0e069b9275f58929596ceb00d14d90e3e16cd6"
  },
  "kernelspec": {
   "display_name": "Python 3 (ipykernel)",
   "language": "python",
   "name": "python3"
  },
  "language_info": {
   "codemirror_mode": {
    "name": "ipython",
    "version": 3
   },
   "file_extension": ".py",
   "mimetype": "text/x-python",
   "name": "python",
   "nbconvert_exporter": "python",
   "pygments_lexer": "ipython3",
   "version": "3.10.4"
  },
  "toc": {
   "base_numbering": 1,
   "nav_menu": {},
   "number_sections": true,
   "sideBar": true,
   "skip_h1_title": false,
   "title_cell": "Table of Contents",
   "title_sidebar": "Contents",
   "toc_cell": false,
   "toc_position": {},
   "toc_section_display": true,
   "toc_window_display": true
  }
 },
 "nbformat": 4,
 "nbformat_minor": 4
}
