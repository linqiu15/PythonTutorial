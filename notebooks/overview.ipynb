{
 "cells": [
  {
   "cell_type": "markdown",
   "metadata": {},
   "source": [
    "# Overview of Python Language"
   ]
  },
  {
   "cell_type": "markdown",
   "metadata": {},
   "source": [
    "## Sources"
   ]
  },
  {
   "cell_type": "markdown",
   "metadata": {},
   "source": [
    "### learning python on github or websites for beginners\n",
    "- [python3 on w3schools](https://www.w3schools.com/python/)\n",
    "- [learn-python](https://github.com/trekhleb/learn-python)\n",
    "- [learn-python3](https://github.com/jerry-git/learn-python3)\n",
    "\n",
    "### finding the solutions to your puzzles(start using English)\n",
    "- [Bing](https://www.bing.com/) or [Google](https://www.google.com/)\n",
    "- [github](https://github.com/), [Stackoverflow](https://stackoverflow.com/), [Reddit](https://www.reddit.com/)"
   ]
  },
  {
   "cell_type": "markdown",
   "metadata": {},
   "source": [
    "## About Programming"
   ]
  },
  {
   "cell_type": "markdown",
   "metadata": {},
   "source": [
    "There are three main Paradigms for programming: \n",
    "- [Procedural programming](https://en.wikipedia.org/wiki/Procedural_programming): [Low-level programming](https://en.wikipedia.org/wiki/Low-level_programming_language)(Machine codes, Assembly language...) and [High-level programming](Fortran,C...)\n",
    "- [Functional programming](https://en.wikipedia.org/wiki/Functional_programming): [Wolfram Language](https://www.wolfram.com/mathematica/), [Lisp](https://lisp-lang.org/)...\n",
    "- [Object-oriented programming](https://en.wikipedia.org/wiki/Object-oriented_programming): [C++](https://www.cplusplus.com/), [Python](https://www.python.org/), [Java](https://www.java.com/zh-CN/) and so on.\n",
    "- [Dynamic programming language](https://en.wikipedia.org/wiki/Dynamic_programming_language): [Julia](https://julialang.org/)...\n",
    "\n",
    "Of course, most of the above languages are multi-paradigm languages. And for a better understanding the phenomenologies of the above languages, there are some posts that may be helpful and vivid:\n",
    "- [Functional, Object-Oriented, and Procedural Programming](https://levelup.gitconnected.com/functional-object-oriented-procedural-programming-644feda5bcfc)\n",
    "- [How to explain object-oriented programming concepts to a 6-year-old](https://www.freecodecamp.org/news/object-oriented-programming-concepts-21bb035f7260/)\n",
    "\n",
    "There are several main features that discriminate Object-oriented language from others(the deoms below come from [How to explain object-oriented programming concepts to a 6-year-old](https://www.freecodecamp.org/news/object-oriented-programming-concepts-21bb035f7260/)).\n",
    "-  **Encapsulation**\n",
    "\n",
    "![encapsulation](../images/encapsulation.png)\n",
    "<p align = \"center\">\n",
    "<i>You can feed the cat. But you can’t directly change how hungry the cat is.</i>\n",
    "</p>\n",
    "\n",
    "- **Abstraction**\n",
    "\n",
    "![abstraction](../images//abstraction.png)\n",
    "<p align = \"center\">\n",
    "<i>Cell phones are complex. But using them is simple.</i>\n",
    "</p>\n",
    "\n",
    "- **Inheritance**\n",
    "\n",
    "![inheritance](../images/inheritance.png)\n",
    "<p align = \"center\">\n",
    "<i>A private teacher is a type of teacher. And any teacher is a type of Person.</i>\n",
    "</p>\n",
    "\n",
    "- **Polymorphism**\n",
    "\n",
    "![polymorphism](../images/polymorphism.png)\n",
    "<p align = \"center\">\n",
    "<i>Triangle, Circle, and Rectangle now can be used in the same collection</i>\n",
    "</p>"
   ]
  }
 ],
 "metadata": {
  "interpreter": {
   "hash": "31f2aee4e71d21fbe5cf8b01ff0e069b9275f58929596ceb00d14d90e3e16cd6"
  },
  "kernelspec": {
   "display_name": "Python 3.10.4 64-bit",
   "language": "python",
   "name": "python3"
  },
  "language_info": {
   "codemirror_mode": {
    "name": "ipython",
    "version": 3
   },
   "file_extension": ".py",
   "mimetype": "text/x-python",
   "name": "python",
   "nbconvert_exporter": "python",
   "pygments_lexer": "ipython3",
   "version": "3.10.4"
  },
  "orig_nbformat": 4
 },
 "nbformat": 4,
 "nbformat_minor": 2
}
