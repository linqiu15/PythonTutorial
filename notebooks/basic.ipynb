{
 "cells": [
  {
   "cell_type": "markdown",
   "id": "38aa4cd9-4bc1-4973-a8ef-8bd6a4f3564b",
   "metadata": {},
   "source": [
    "As we learn from the last lecture, [everything in Python is an Object](https://www.codingninjas.com/blog/2020/08/27/how-everything-in-python-is-an-object/#:~:text=Since%20Python%20is%20an%20object,%2C%20string%2C%20list%20and%20functions.) which may a little bit [different from JAVA](https://stackoverflow.com/questions/11844012/they-say-in-java-every-thing-is-an-object-is-that-true)(I am not familiar with JAVA). Also, any Class is composed by two fields: _properties(member variables)_ and \\*methods(member functions)\" and any Object is an instance of such a Class. A good designed Class should have the basic OOP features as we learned in the last lecuture: **Encapsulation**, **Abstraction**, **Inheritance**, **Polymorphism**. And it is not easy to understand this and most importantly: put into practise!\n"
   ]
  },
  {
   "cell_type": "markdown",
   "id": "0db110f6-c8e0-4e07-a740-218868d2d2b9",
   "metadata": {},
   "source": [
    "The base library built in Python is, of course, a good demo to realize OOP and ready to use. The type/class of any Object(**variables**(\"Integer\", \"String\", \"Tuple\", \"Dict\"), **functions**) can be read by _type_ function:\n"
   ]
  },
  {
   "cell_type": "code",
   "execution_count": 14,
   "id": "a7308d49-d917-4df3-b8af-83b0798e3aaa",
   "metadata": {},
   "outputs": [],
   "source": [
    "var_real = 1.2\n",
    "var_complex = complex(1.0, 2.0)\n",
    "var_str = \"Hello, Python!\"\n",
    "var_list = [2, 5, 7.0]\n",
    "var_tuple = (1.0, \"str\")\n",
    "var_dict = {\"Tom\": 15, \"Jerry\": 13}\n",
    "var_func = abs\n"
   ]
  },
  {
   "cell_type": "code",
   "execution_count": 15,
   "id": "f3c68d58-b98c-4fcb-ae70-699e2b3ac5da",
   "metadata": {},
   "outputs": [
    {
     "name": "stdout",
     "output_type": "stream",
     "text": [
      "<class 'float'>\n",
      "<class 'complex'>\n",
      "<class 'str'>\n",
      "<class 'list'>\n",
      "<class 'tuple'>\n",
      "<class 'dict'>\n",
      "<class 'builtin_function_or_method'>\n"
     ]
    }
   ],
   "source": [
    "print(type(var_real))\n",
    "print(type(var_complex))\n",
    "print(type(var_str))\n",
    "print(type(var_list))\n",
    "print(type(var_tuple))\n",
    "print(type(var_dict))\n",
    "print(type(var_func))\n"
   ]
  },
  {
   "cell_type": "markdown",
   "id": "3a24e1ec-eaf5-45da-9392-04ecd4676a89",
   "metadata": {},
   "source": [
    "The prperties/attributes of an Object in Python can get by **dir** function(those can be invoked by pressing TAB key after appending **.** to an Object)\n"
   ]
  },
  {
   "cell_type": "code",
   "execution_count": 9,
   "id": "4bf2d7bd-d43d-4378-9119-78049dc91ab6",
   "metadata": {},
   "outputs": [],
   "source": [
    "# var_list.\n"
   ]
  },
  {
   "cell_type": "code",
   "execution_count": 8,
   "id": "ed36640e-1177-4d38-9ccb-b84d7e1b2644",
   "metadata": {},
   "outputs": [
    {
     "data": {
      "text/plain": [
       "['__abs__',\n",
       " '__add__',\n",
       " '__bool__',\n",
       " '__ceil__',\n",
       " '__class__',\n",
       " '__delattr__',\n",
       " '__dir__',\n",
       " '__divmod__',\n",
       " '__doc__',\n",
       " '__eq__',\n",
       " '__float__',\n",
       " '__floor__',\n",
       " '__floordiv__',\n",
       " '__format__',\n",
       " '__ge__',\n",
       " '__getattribute__',\n",
       " '__getformat__',\n",
       " '__getnewargs__',\n",
       " '__gt__',\n",
       " '__hash__',\n",
       " '__init__',\n",
       " '__init_subclass__',\n",
       " '__int__',\n",
       " '__le__',\n",
       " '__lt__',\n",
       " '__mod__',\n",
       " '__mul__',\n",
       " '__ne__',\n",
       " '__neg__',\n",
       " '__new__',\n",
       " '__pos__',\n",
       " '__pow__',\n",
       " '__radd__',\n",
       " '__rdivmod__',\n",
       " '__reduce__',\n",
       " '__reduce_ex__',\n",
       " '__repr__',\n",
       " '__rfloordiv__',\n",
       " '__rmod__',\n",
       " '__rmul__',\n",
       " '__round__',\n",
       " '__rpow__',\n",
       " '__rsub__',\n",
       " '__rtruediv__',\n",
       " '__setattr__',\n",
       " '__setformat__',\n",
       " '__sizeof__',\n",
       " '__str__',\n",
       " '__sub__',\n",
       " '__subclasshook__',\n",
       " '__truediv__',\n",
       " '__trunc__',\n",
       " 'as_integer_ratio',\n",
       " 'conjugate',\n",
       " 'fromhex',\n",
       " 'hex',\n",
       " 'imag',\n",
       " 'is_integer',\n",
       " 'real']"
      ]
     },
     "execution_count": 8,
     "metadata": {},
     "output_type": "execute_result"
    }
   ],
   "source": [
    "dir(var_real)\n"
   ]
  },
  {
   "cell_type": "markdown",
   "id": "89a7cf56-140f-4bf5-8a7c-3ef7d7221f65",
   "metadata": {},
   "source": [
    "The [standard library in Python](https://docs.python.org/3/library/) has provided you with a fruit of Modules/Class and there are much more packages maintained by the community which you can find and download in [PyPI](https://pypi.org/). In the following, we will have a very quick view on there ingredients and you can write good programs to solve your problem in python language.\n"
   ]
  },
  {
   "cell_type": "markdown",
   "id": "53714687-c8e6-43a1-8e61-84ae10522c9d",
   "metadata": {},
   "source": [
    "# Basic types\n"
   ]
  },
  {
   "cell_type": "markdown",
   "id": "78c1b24b-90bb-431b-9a28-94873c4233da",
   "metadata": {},
   "source": [
    "## number/boolean\n"
   ]
  },
  {
   "cell_type": "markdown",
   "id": "6e6d02ca-9cd5-4aee-b745-2aa28d9f829b",
   "metadata": {},
   "source": [
    "[Python is both a strongly typed and dynamically typed language](https://www.futurelearn.com/info/courses/python-in-hpc/0/steps/65121#:~:text=Python%20is%20both%20a%20strongly,is%20determined%20only%20during%20runtime.). The calculation for number/boolean in even different types can be automatically promoted(but it is recommended to keep an eye in pratice and you may have to check or convert). The logical operators in Python is: **and**, **or**, **not** and of course [other basic operators](https://www.tutorialspoint.com/python/python_basic_operators.htm).\n"
   ]
  },
  {
   "cell_type": "code",
   "execution_count": 21,
   "id": "e0a9c4d2-00a2-4824-a1fc-b36e625a4a20",
   "metadata": {},
   "outputs": [
    {
     "name": "stdout",
     "output_type": "stream",
     "text": [
      "3.0\n",
      "True\n",
      "True\n",
      "1\n",
      "0\n"
     ]
    }
   ],
   "source": [
    "print(1+2.0)\n",
    "print(1 == True)\n",
    "print(0 == False)\n",
    "print(1 or False)\n",
    "print(0 and True)\n"
   ]
  },
  {
   "cell_type": "markdown",
   "id": "421ca8f7-4e67-4aa2-868e-ea50a24fa760",
   "metadata": {},
   "source": [
    "## string\n"
   ]
  },
  {
   "cell_type": "markdown",
   "id": "e40e05bd-f29a-4acc-93cb-745c4d7eb118",
   "metadata": {},
   "source": [
    "A string in Python can be initilized by(**single** or **double** quote is the same) and there are some useful [Escape Character](https://python-reference.readthedocs.io/en/latest/docs/str/escapes.html):\n"
   ]
  },
  {
   "cell_type": "code",
   "execution_count": 28,
   "id": "c84b0d30-31c4-4cb1-940b-847559bbc11d",
   "metadata": {},
   "outputs": [],
   "source": [
    "var_str = \"Hello, Python!\"\n",
    "var_doc = \"\"\"Two roads diverged in a yellow wood,\n",
    "And sorry I could not travel both\n",
    "\"\"\"\n"
   ]
  },
  {
   "cell_type": "markdown",
   "id": "41d5b227-ca9a-4b0a-a4ee-e0bdcee5d59f",
   "metadata": {},
   "source": [
    "A common used feature of string in Python is the [**format**](https://docs.python.org/3/tutorial/inputoutput.html) function,\n"
   ]
  },
  {
   "cell_type": "code",
   "execution_count": 30,
   "id": "6f8764b9-f30f-484c-b4ca-def28ff249d2",
   "metadata": {},
   "outputs": [
    {
     "name": "stdout",
     "output_type": "stream",
     "text": [
      "Two roads diverged in a yellow wood,\n",
      "And sorry I could not travel both\n",
      "\n"
     ]
    }
   ],
   "source": [
    "print(var_doc)\n"
   ]
  },
  {
   "cell_type": "code",
   "execution_count": 33,
   "id": "15e2a30a-74c5-49d0-9f66-6c0d87c9af9c",
   "metadata": {},
   "outputs": [
    {
     "name": "stdout",
     "output_type": "stream",
     "text": [
      "Say hello to Python: Hello, Python!\n"
     ]
    }
   ],
   "source": [
    "print(f'Say hello to Python: {var_str}')\n"
   ]
  },
  {
   "cell_type": "code",
   "execution_count": 34,
   "id": "b4ce087d-1bd2-4a21-a968-e615db5d0f93",
   "metadata": {},
   "outputs": [
    {
     "name": "stdout",
     "output_type": "stream",
     "text": [
      "hello, python!\n"
     ]
    }
   ],
   "source": [
    "print(var_str.lower())\n"
   ]
  },
  {
   "cell_type": "code",
   "execution_count": 35,
   "id": "3039e7c2-edde-497f-add0-4d94a4b979e1",
   "metadata": {},
   "outputs": [
    {
     "name": "stdout",
     "output_type": "stream",
     "text": [
      "Hello, Python!\n",
      "Two roads diverged in a yellow wood,\n",
      "And sorry I could not travel both\n",
      "\n"
     ]
    }
   ],
   "source": [
    "print(var_str+\"\\n\"+var_doc)\n"
   ]
  },
  {
   "cell_type": "code",
   "execution_count": 36,
   "id": "0c55c39f-b17d-4613-aab5-1646025f3ca7",
   "metadata": {},
   "outputs": [],
   "source": [
    "import math\n"
   ]
  },
  {
   "cell_type": "code",
   "execution_count": 40,
   "id": "b95cf653-fe67-4806-83b3-ef007bf42895",
   "metadata": {},
   "outputs": [
    {
     "name": "stdout",
     "output_type": "stream",
     "text": [
      "str is: Hello, Python! and pi is:3.14\n"
     ]
    }
   ],
   "source": [
    "print(\"str is: {} and pi is:{:.2f}\".format(var_str, math.pi))\n"
   ]
  },
  {
   "cell_type": "markdown",
   "id": "f3166ed4-861e-4467-a370-4f8cfbc66676",
   "metadata": {},
   "source": [
    "Other methods related to String can found at [Python String Methods](https://www.w3schools.com/python/python_ref_string.asp) or use **dir** function as said.\n"
   ]
  },
  {
   "cell_type": "code",
   "execution_count": null,
   "id": "e37d42f0-af87-4de4-ae5f-8c5f3fa4a8ab",
   "metadata": {},
   "outputs": [],
   "source": []
  }
 ],
 "metadata": {
  "kernelspec": {
   "display_name": "Python 3 (ipykernel)",
   "language": "python",
   "name": "python3"
  },
  "language_info": {
   "codemirror_mode": {
    "name": "ipython",
    "version": 3
   },
   "file_extension": ".py",
   "mimetype": "text/x-python",
   "name": "python",
   "nbconvert_exporter": "python",
   "pygments_lexer": "ipython3",
   "version": "3.9.12"
  }
 },
 "nbformat": 4,
 "nbformat_minor": 5
}
