{
 "cells": [
  {
   "cell_type": "code",
   "execution_count": 1,
   "id": "0c55c39f-b17d-4613-aab5-1646025f3ca7",
   "metadata": {},
   "outputs": [],
   "source": [
    "import math"
   ]
  },
  {
   "cell_type": "markdown",
   "id": "38aa4cd9-4bc1-4973-a8ef-8bd6a4f3564b",
   "metadata": {},
   "source": [
    "As we learn from the last lecture, [everything in Python is an Object](https://www.codingninjas.com/blog/2020/08/27/how-everything-in-python-is-an-object/#:~:text=Since%20Python%20is%20an%20object,%2C%20string%2C%20list%20and%20functions.) which may be a little bit [different from JAVA](https://stackoverflow.com/questions/11844012/they-say-in-java-every-thing-is-an-object-is-that-true)(I am not familiar with JAVA). Also, any Class is composed by two fields: _properties(member variables)_ and _methods(member functions)_ and any Object is an instance of such a Class. A good designed Class should have the basic OOP features as we learned in the last lecuture: **Encapsulation**, **Abstraction**, **Inheritance**, **Polymorphism**. And it is not easy to understand this and most importantly: put into practise!\n"
   ]
  },
  {
   "cell_type": "markdown",
   "id": "0db110f6-c8e0-4e07-a740-218868d2d2b9",
   "metadata": {},
   "source": [
    "The base library built in Python is, of course, a good demo to realize OOP and ready to use. The type/class of any Object(**variables**(\"Integer\", \"String\", \"Tuple\", \"Dict\"), **functions**) can be read by _type_ function:\n"
   ]
  },
  {
   "cell_type": "code",
   "execution_count": 2,
   "id": "a7308d49-d917-4df3-b8af-83b0798e3aaa",
   "metadata": {},
   "outputs": [],
   "source": [
    "var_real = 1.2\n",
    "var_complex = complex(1.0, 2.0)\n",
    "var_str = \"Hello, Python!\"\n",
    "var_list = [2, 5, 7.0]\n",
    "var_tuple = (1.0, \"str\")\n",
    "var_dict = {\"Tom\": 15, \"Jerry\": 13}\n",
    "var_set = set([\"Tom\", \"Bob\", \"Lisa\"])\n",
    "var_func = abs"
   ]
  },
  {
   "cell_type": "code",
   "execution_count": 3,
   "id": "f3c68d58-b98c-4fcb-ae70-699e2b3ac5da",
   "metadata": {},
   "outputs": [
    {
     "name": "stdout",
     "output_type": "stream",
     "text": [
      "<class 'float'>\n",
      "<class 'complex'>\n",
      "<class 'str'>\n",
      "<class 'list'>\n",
      "<class 'tuple'>\n",
      "<class 'dict'>\n",
      "<class 'set'>\n",
      "<class 'builtin_function_or_method'>\n"
     ]
    }
   ],
   "source": [
    "print(type(var_real))\n",
    "print(type(var_complex))\n",
    "print(type(var_str))\n",
    "print(type(var_list))\n",
    "print(type(var_tuple))\n",
    "print(type(var_dict))\n",
    "print(type(var_set))\n",
    "print(type(var_func))"
   ]
  },
  {
   "cell_type": "markdown",
   "id": "3a24e1ec-eaf5-45da-9392-04ecd4676a89",
   "metadata": {},
   "source": [
    "The prperties/attributes of an Object in Python can get by **dir** function(those can be invoked by pressing TAB key after appending **.** to an Object)\n"
   ]
  },
  {
   "cell_type": "code",
   "execution_count": 4,
   "id": "4bf2d7bd-d43d-4378-9119-78049dc91ab6",
   "metadata": {},
   "outputs": [],
   "source": [
    "# var_list."
   ]
  },
  {
   "cell_type": "code",
   "execution_count": 5,
   "id": "ed36640e-1177-4d38-9ccb-b84d7e1b2644",
   "metadata": {},
   "outputs": [
    {
     "data": {
      "text/plain": [
       "['__abs__',\n",
       " '__add__',\n",
       " '__bool__',\n",
       " '__ceil__',\n",
       " '__class__',\n",
       " '__delattr__',\n",
       " '__dir__',\n",
       " '__divmod__',\n",
       " '__doc__',\n",
       " '__eq__',\n",
       " '__float__',\n",
       " '__floor__',\n",
       " '__floordiv__',\n",
       " '__format__',\n",
       " '__ge__',\n",
       " '__getattribute__',\n",
       " '__getformat__',\n",
       " '__getnewargs__',\n",
       " '__gt__',\n",
       " '__hash__',\n",
       " '__init__',\n",
       " '__init_subclass__',\n",
       " '__int__',\n",
       " '__le__',\n",
       " '__lt__',\n",
       " '__mod__',\n",
       " '__mul__',\n",
       " '__ne__',\n",
       " '__neg__',\n",
       " '__new__',\n",
       " '__pos__',\n",
       " '__pow__',\n",
       " '__radd__',\n",
       " '__rdivmod__',\n",
       " '__reduce__',\n",
       " '__reduce_ex__',\n",
       " '__repr__',\n",
       " '__rfloordiv__',\n",
       " '__rmod__',\n",
       " '__rmul__',\n",
       " '__round__',\n",
       " '__rpow__',\n",
       " '__rsub__',\n",
       " '__rtruediv__',\n",
       " '__setattr__',\n",
       " '__setformat__',\n",
       " '__sizeof__',\n",
       " '__str__',\n",
       " '__sub__',\n",
       " '__subclasshook__',\n",
       " '__truediv__',\n",
       " '__trunc__',\n",
       " 'as_integer_ratio',\n",
       " 'conjugate',\n",
       " 'fromhex',\n",
       " 'hex',\n",
       " 'imag',\n",
       " 'is_integer',\n",
       " 'real']"
      ]
     },
     "execution_count": 5,
     "metadata": {},
     "output_type": "execute_result"
    }
   ],
   "source": [
    "dir(var_real)"
   ]
  },
  {
   "cell_type": "markdown",
   "id": "89a7cf56-140f-4bf5-8a7c-3ef7d7221f65",
   "metadata": {},
   "source": [
    "The [standard library in Python](https://docs.python.org/3/library/) has provided you with a lot of Modules/Class and there are much more packages maintained by the community which you can find and download in [PyPI](https://pypi.org/). In the following, we will have a very quick view on there ingredients and you can write good programs to solve your problem in python language.\n"
   ]
  },
  {
   "cell_type": "markdown",
   "id": "53714687-c8e6-43a1-8e61-84ae10522c9d",
   "metadata": {},
   "source": [
    "# Basic types\n"
   ]
  },
  {
   "cell_type": "markdown",
   "id": "78c1b24b-90bb-431b-9a28-94873c4233da",
   "metadata": {},
   "source": [
    "## number/boolean\n"
   ]
  },
  {
   "cell_type": "markdown",
   "id": "6e6d02ca-9cd5-4aee-b745-2aa28d9f829b",
   "metadata": {},
   "source": [
    "[Python is both a strongly typed and dynamically typed language](https://www.futurelearn.com/info/courses/python-in-hpc/0/steps/65121#:~:text=Python%20is%20both%20a%20strongly,is%20determined%20only%20during%20runtime.). The calculation for number/boolean in even different types can be automatically promoted(but it is recommended to keep an eye in pratice and you may have to check or convert). The logical operators in Python is: **and**, **or**, **not** and of course [other basic operators](https://www.tutorialspoint.com/python/python_basic_operators.htm).\n"
   ]
  },
  {
   "cell_type": "code",
   "execution_count": 6,
   "id": "e0a9c4d2-00a2-4824-a1fc-b36e625a4a20",
   "metadata": {},
   "outputs": [
    {
     "name": "stdout",
     "output_type": "stream",
     "text": [
      "3.0\n",
      "True\n",
      "True\n",
      "1\n",
      "0\n"
     ]
    }
   ],
   "source": [
    "print(1 + 2.0)\n",
    "print(1 == True)\n",
    "print(0 == False)\n",
    "print(1 or False)\n",
    "print(0 and True)"
   ]
  },
  {
   "cell_type": "markdown",
   "id": "421ca8f7-4e67-4aa2-868e-ea50a24fa760",
   "metadata": {},
   "source": [
    "## string\n"
   ]
  },
  {
   "cell_type": "markdown",
   "id": "e40e05bd-f29a-4acc-93cb-745c4d7eb118",
   "metadata": {},
   "source": [
    "A string in Python can be initilized by(**single** or **double** quote is the same) and there are some useful [Escape Character](https://python-reference.readthedocs.io/en/latest/docs/str/escapes.html):\n"
   ]
  },
  {
   "cell_type": "code",
   "execution_count": 7,
   "id": "c84b0d30-31c4-4cb1-940b-847559bbc11d",
   "metadata": {},
   "outputs": [],
   "source": [
    "var_str = \"Hello, Python!\"\n",
    "var_str = \"Hello, Python!\"\n",
    "var_doc = \"\"\"Two roads diverged in a yellow wood,\n",
    "And sorry I could not travel both\n",
    "\"\"\""
   ]
  },
  {
   "cell_type": "markdown",
   "id": "41d5b227-ca9a-4b0a-a4ee-e0bdcee5d59f",
   "metadata": {},
   "source": [
    "A common used feature of string in Python is the [**format**](https://docs.python.org/3/tutorial/inputoutput.html) function,\n"
   ]
  },
  {
   "cell_type": "code",
   "execution_count": 8,
   "id": "6f8764b9-f30f-484c-b4ca-def28ff249d2",
   "metadata": {},
   "outputs": [
    {
     "name": "stdout",
     "output_type": "stream",
     "text": [
      "Two roads diverged in a yellow wood,\n",
      "And sorry I could not travel both\n",
      "\n"
     ]
    }
   ],
   "source": [
    "print(var_doc)"
   ]
  },
  {
   "cell_type": "code",
   "execution_count": 9,
   "id": "15e2a30a-74c5-49d0-9f66-6c0d87c9af9c",
   "metadata": {},
   "outputs": [
    {
     "name": "stdout",
     "output_type": "stream",
     "text": [
      "Say hello to Python: Hello, Python!\n"
     ]
    }
   ],
   "source": [
    "print(f\"Say hello to Python: {var_str}\")"
   ]
  },
  {
   "cell_type": "code",
   "execution_count": 10,
   "id": "b4ce087d-1bd2-4a21-a968-e615db5d0f93",
   "metadata": {},
   "outputs": [
    {
     "name": "stdout",
     "output_type": "stream",
     "text": [
      "hello, python!\n"
     ]
    }
   ],
   "source": [
    "print(var_str.lower())"
   ]
  },
  {
   "cell_type": "code",
   "execution_count": 11,
   "id": "3039e7c2-edde-497f-add0-4d94a4b979e1",
   "metadata": {},
   "outputs": [
    {
     "name": "stdout",
     "output_type": "stream",
     "text": [
      "Hello, Python!Hello, Python!\n",
      "Two roads diverged in a yellow wood,\n",
      "And sorry I could not travel both\n",
      "\n"
     ]
    }
   ],
   "source": [
    "print(var_str * 2 + \"\\n\" + var_doc)"
   ]
  },
  {
   "cell_type": "code",
   "execution_count": 12,
   "id": "a820a44b-3555-47ea-949c-9ed6c2ec03c2",
   "metadata": {},
   "outputs": [
    {
     "name": "stdout",
     "output_type": "stream",
     "text": [
      "str is: Hello, Python! and pi is:3.141593\n"
     ]
    }
   ],
   "source": [
    "print(\"str is: %s and pi is:%f\" % (var_str, math.pi))"
   ]
  },
  {
   "cell_type": "code",
   "execution_count": 13,
   "id": "b95cf653-fe67-4806-83b3-ef007bf42895",
   "metadata": {},
   "outputs": [
    {
     "name": "stdout",
     "output_type": "stream",
     "text": [
      "str is: Hello, Python! and pi is:3.14\n"
     ]
    }
   ],
   "source": [
    "print(\"str is: {} and pi is:{:.2f}\".format(var_str, math.pi))"
   ]
  },
  {
   "cell_type": "markdown",
   "id": "f3166ed4-861e-4467-a370-4f8cfbc66676",
   "metadata": {},
   "source": [
    "Other methods related to String can found at [Python String Methods](https://www.w3schools.com/python/python_ref_string.asp) or use **dir** function as said.\n"
   ]
  },
  {
   "cell_type": "markdown",
   "id": "46846e67-3b0d-4431-9b1b-c5d8252e7322",
   "metadata": {},
   "source": [
    "## list&tuple\n",
    "list may be the most used type in Python and tuple is its immutable one(it is not in some case!)\n",
    "\n",
    "list operations: ``len()``,``append()``,``pop()`` etc."
   ]
  },
  {
   "cell_type": "markdown",
   "id": "31d5a4cd-27d1-44e7-a450-9bb5b5552308",
   "metadata": {},
   "source": [
    "### slice"
   ]
  },
  {
   "cell_type": "code",
   "execution_count": 14,
   "id": "724bd357-9ade-411d-95e5-5d5d94230a9f",
   "metadata": {},
   "outputs": [],
   "source": [
    "var_list_new = list(range(1, 10))"
   ]
  },
  {
   "cell_type": "code",
   "execution_count": 15,
   "id": "e04b29fd-42a6-4a64-a80f-11d07df6606d",
   "metadata": {},
   "outputs": [
    {
     "data": {
      "text/plain": [
       "[1, 2, 3, 4, 5, 6, 7, 8]"
      ]
     },
     "execution_count": 15,
     "metadata": {},
     "output_type": "execute_result"
    }
   ],
   "source": [
    "var_list_new[0:-1]"
   ]
  },
  {
   "cell_type": "code",
   "execution_count": 16,
   "id": "1a57d721-b8fb-40d6-a3eb-756c7bcae42c",
   "metadata": {},
   "outputs": [
    {
     "data": {
      "text/plain": [
       "[1, 3, 5, 7, 9]"
      ]
     },
     "execution_count": 16,
     "metadata": {},
     "output_type": "execute_result"
    }
   ],
   "source": [
    "var_list_new[::2]"
   ]
  },
  {
   "cell_type": "markdown",
   "id": "f0bba96b-c7ea-48d3-85a8-8a83d4da1f23",
   "metadata": {},
   "source": [
    "### list comprehension\n",
    "```\n",
    "[expr for l in list]\n",
    "```"
   ]
  },
  {
   "cell_type": "code",
   "execution_count": 17,
   "id": "116de4e0-e437-447c-bfd7-6bf4aea1026e",
   "metadata": {},
   "outputs": [
    {
     "data": {
      "text/plain": [
       "[4, 25, 49.0]"
      ]
     },
     "execution_count": 17,
     "metadata": {},
     "output_type": "execute_result"
    }
   ],
   "source": [
    "[x ** 2 for x in var_list]"
   ]
  },
  {
   "cell_type": "markdown",
   "id": "2a96c521-5fa0-400e-8807-ce73c3c38c0f",
   "metadata": {},
   "source": [
    "### tuple is not completely immutable!\n",
    "What \"immutable\" means is that you cannot change its elements but its elements canbe mutable(**reference**)."
   ]
  },
  {
   "cell_type": "code",
   "execution_count": 18,
   "id": "2bbb3188-e94d-419e-8e78-d9e5ecc56af5",
   "metadata": {},
   "outputs": [
    {
     "ename": "TypeError",
     "evalue": "'tuple' object does not support item assignment",
     "output_type": "error",
     "traceback": [
      "\u001b[0;31m---------------------------------------------------------------------------\u001b[0m",
      "\u001b[0;31mTypeError\u001b[0m                                 Traceback (most recent call last)",
      "Input \u001b[0;32mIn [18]\u001b[0m, in \u001b[0;36m<cell line: 1>\u001b[0;34m()\u001b[0m\n\u001b[0;32m----> 1\u001b[0m var_tuple[\u001b[38;5;241m1\u001b[39m] \u001b[38;5;241m=\u001b[39m \u001b[38;5;124m\"\u001b[39m\u001b[38;5;124mstr1\u001b[39m\u001b[38;5;124m\"\u001b[39m\n",
      "\u001b[0;31mTypeError\u001b[0m: 'tuple' object does not support item assignment"
     ]
    }
   ],
   "source": [
    "var_tuple[1] = \"str1\""
   ]
  },
  {
   "cell_type": "code",
   "execution_count": 19,
   "id": "63fce09e-864c-4db5-890e-d414953441ec",
   "metadata": {},
   "outputs": [],
   "source": [
    "var_tuple_new = (1, \"str\", [\"Hello\", \"Python!\"])"
   ]
  },
  {
   "cell_type": "code",
   "execution_count": 20,
   "id": "b4cb1451-dfa1-473b-a7b5-bbf42c71599a",
   "metadata": {},
   "outputs": [
    {
     "ename": "TypeError",
     "evalue": "'tuple' object does not support item assignment",
     "output_type": "error",
     "traceback": [
      "\u001b[0;31m---------------------------------------------------------------------------\u001b[0m",
      "\u001b[0;31mTypeError\u001b[0m                                 Traceback (most recent call last)",
      "Input \u001b[0;32mIn [20]\u001b[0m, in \u001b[0;36m<cell line: 1>\u001b[0;34m()\u001b[0m\n\u001b[0;32m----> 1\u001b[0m var_tuple_new[\u001b[38;5;241m2\u001b[39m] \u001b[38;5;241m=\u001b[39m [\u001b[38;5;124m\"\u001b[39m\u001b[38;5;124mhello\u001b[39m\u001b[38;5;124m\"\u001b[39m, \u001b[38;5;124m\"\u001b[39m\u001b[38;5;124mpython\u001b[39m\u001b[38;5;124m\"\u001b[39m]\n",
      "\u001b[0;31mTypeError\u001b[0m: 'tuple' object does not support item assignment"
     ]
    }
   ],
   "source": [
    "var_tuple_new[2] = [\"hello\", \"python\"]"
   ]
  },
  {
   "cell_type": "code",
   "execution_count": 21,
   "id": "4448ccac-80a0-4da5-83d7-3484e440101d",
   "metadata": {},
   "outputs": [],
   "source": [
    "var_tuple_new[2][0] = \"hello\""
   ]
  },
  {
   "cell_type": "code",
   "execution_count": 22,
   "id": "39c5f6ab-fc9a-41b2-add1-aa61de1c1038",
   "metadata": {},
   "outputs": [
    {
     "data": {
      "text/plain": [
       "(1, 'str', ['hello', 'Python!'])"
      ]
     },
     "execution_count": 22,
     "metadata": {},
     "output_type": "execute_result"
    }
   ],
   "source": [
    "var_tuple_new"
   ]
  },
  {
   "cell_type": "markdown",
   "id": "ee752e91-ee75-4358-bf5f-1a171caf5a54",
   "metadata": {},
   "source": [
    "## dict&set\n",
    "Dict is fast!operations:``get()``,``pop()``,``keys()``,``values()``,``items()`` etc. Since the Python intepreter will give out error when key not existing, it would be safe to **test if key existing** and then visit it. This helps to make your code more robust!"
   ]
  },
  {
   "cell_type": "code",
   "execution_count": 23,
   "id": "0c74b6bb-d16e-4d18-89c4-df4592cad76d",
   "metadata": {},
   "outputs": [
    {
     "name": "stdout",
     "output_type": "stream",
     "text": [
      "15\n"
     ]
    }
   ],
   "source": [
    "(\"Tom\" in var_dict) and (print(var_dict[\"Tom\"]))"
   ]
  },
  {
   "cell_type": "code",
   "execution_count": 24,
   "id": "9516535f-2837-480b-b983-16ae42be30fa",
   "metadata": {},
   "outputs": [
    {
     "ename": "KeyError",
     "evalue": "'Bob'",
     "output_type": "error",
     "traceback": [
      "\u001b[0;31m---------------------------------------------------------------------------\u001b[0m",
      "\u001b[0;31mKeyError\u001b[0m                                  Traceback (most recent call last)",
      "Input \u001b[0;32mIn [24]\u001b[0m, in \u001b[0;36m<cell line: 1>\u001b[0;34m()\u001b[0m\n\u001b[0;32m----> 1\u001b[0m \u001b[38;5;28mprint\u001b[39m(\u001b[43mvar_dict\u001b[49m\u001b[43m[\u001b[49m\u001b[38;5;124;43m\"\u001b[39;49m\u001b[38;5;124;43mBob\u001b[39;49m\u001b[38;5;124;43m\"\u001b[39;49m\u001b[43m]\u001b[49m)\n",
      "\u001b[0;31mKeyError\u001b[0m: 'Bob'"
     ]
    }
   ],
   "source": [
    "print(var_dict[\"Bob\"])"
   ]
  },
  {
   "cell_type": "code",
   "execution_count": 25,
   "id": "d0cd2896-d43b-40aa-9b56-deb6d0741d63",
   "metadata": {},
   "outputs": [
    {
     "data": {
      "text/plain": [
       "False"
      ]
     },
     "execution_count": 25,
     "metadata": {},
     "output_type": "execute_result"
    }
   ],
   "source": [
    "(\"Bob\" in var_dict) and (print(var_dict[\"Bob\"]))"
   ]
  },
  {
   "cell_type": "markdown",
   "id": "dca631b8-edfa-461a-b18c-ffa79709debf",
   "metadata": {},
   "source": [
    "## control flow"
   ]
  },
  {
   "cell_type": "markdown",
   "id": "5629b63f-aa4d-4eff-b35f-59f3116cc232",
   "metadata": {},
   "source": [
    "### if-elif-else\n",
    "It is too simple! An alternative and elegant way is to use the boolean expression. "
   ]
  },
  {
   "cell_type": "code",
   "execution_count": 26,
   "id": "0b4537a6-e87a-4a35-bb1e-c26ee7a61e16",
   "metadata": {},
   "outputs": [
    {
     "name": "stdout",
     "output_type": "stream",
     "text": [
      "1.0954451150103321\n"
     ]
    }
   ],
   "source": [
    "if var_real >= 0:\n",
    "    print(math.sqrt(var_real))\n",
    "else:\n",
    "    print(math.sqrt(-var_real))"
   ]
  },
  {
   "cell_type": "code",
   "execution_count": 27,
   "id": "015820fd-93b3-4e6c-996c-5802aa8ca68d",
   "metadata": {},
   "outputs": [
    {
     "name": "stdout",
     "output_type": "stream",
     "text": [
      "1.0954451150103321\n"
     ]
    }
   ],
   "source": [
    "(var_real >= 0) and print(math.sqrt(var_real))"
   ]
  },
  {
   "cell_type": "code",
   "execution_count": 28,
   "id": "bece661d-8d67-4679-ad9b-26ad22e8e755",
   "metadata": {},
   "outputs": [
    {
     "data": {
      "text/plain": [
       "False"
      ]
     },
     "execution_count": 28,
     "metadata": {},
     "output_type": "execute_result"
    }
   ],
   "source": [
    "(var_real < 0) and print(math.sqrt(-var_real))"
   ]
  },
  {
   "cell_type": "markdown",
   "id": "c5defd1a-3a8d-414a-a97a-53fbb572b3a4",
   "metadata": {},
   "source": [
    "### for,while,break,continue\n",
    "They are also very simple. The only one thing should be noted is how to break out of nested for-loops? And there are [many discussions](https://nedbatchelder.com/blog/201608/breaking_out_of_two_loops.html)."
   ]
  },
  {
   "cell_type": "code",
   "execution_count": 29,
   "id": "c86196bd-3537-4dda-ada9-9e84a46f5232",
   "metadata": {},
   "outputs": [
    {
     "name": "stdout",
     "output_type": "stream",
     "text": [
      "5   7.0\n"
     ]
    }
   ],
   "source": [
    "for i in range(len(var_list)):\n",
    "    for j in range(i + 1, len(var_list)):\n",
    "        if var_list[i] < var_list[j]:\n",
    "            var_left, var_right = var_list[i], var_list[j]\n",
    "print(var_left, \" \", var_right)"
   ]
  },
  {
   "cell_type": "code",
   "execution_count": 30,
   "id": "7ba2a551-b7e7-4519-a8a8-00224c52d27f",
   "metadata": {},
   "outputs": [],
   "source": [
    "del var_left, var_right"
   ]
  },
  {
   "cell_type": "code",
   "execution_count": 31,
   "id": "1945ee9d-a467-4f0c-85b0-521e4f448fef",
   "metadata": {},
   "outputs": [
    {
     "name": "stdout",
     "output_type": "stream",
     "text": [
      "5   7.0\n"
     ]
    }
   ],
   "source": [
    "for i in range(len(var_list)):\n",
    "    for j in range(i + 1, len(var_list)):\n",
    "        if var_list[i] < var_list[j]:\n",
    "            var_left, var_right = var_list[i], var_list[j]\n",
    "            break\n",
    "print(var_left, \" \", var_right)"
   ]
  },
  {
   "cell_type": "code",
   "execution_count": 32,
   "id": "974253f5-a437-4a6f-a310-ba7223e0603e",
   "metadata": {},
   "outputs": [],
   "source": [
    "del var_left, var_right"
   ]
  },
  {
   "cell_type": "code",
   "execution_count": 33,
   "id": "7a3937e2-604e-4e96-963b-cb1f58c764b6",
   "metadata": {},
   "outputs": [
    {
     "name": "stdout",
     "output_type": "stream",
     "text": [
      "2   7.0\n"
     ]
    }
   ],
   "source": [
    "for i in range(len(var_list)):\n",
    "    for j in range(i + 1, len(var_list)):\n",
    "        if var_list[i] < var_list[j]:\n",
    "            var_left, var_right = var_list[i], var_list[j]\n",
    "    break\n",
    "print(var_left, \" \", var_right)"
   ]
  },
  {
   "cell_type": "code",
   "execution_count": 34,
   "id": "8f63ed23-b58a-449e-9906-49e42752d2b4",
   "metadata": {},
   "outputs": [],
   "source": [
    "del var_left, var_right"
   ]
  },
  {
   "cell_type": "markdown",
   "id": "28d075fd-11bb-49dd-8393-fec298be76b2",
   "metadata": {},
   "source": [
    "**set a flag!**"
   ]
  },
  {
   "cell_type": "code",
   "execution_count": 35,
   "id": "a5be7d56-f1f6-4666-82d8-9cd8892ec450",
   "metadata": {},
   "outputs": [
    {
     "name": "stdout",
     "output_type": "stream",
     "text": [
      "2   5\n"
     ]
    }
   ],
   "source": [
    "flag = False\n",
    "for i in range(len(var_list)):\n",
    "    for j in range(i + 1, len(var_list)):\n",
    "        if var_list[i] < var_list[j]:\n",
    "            var_left, var_right = var_list[i], var_list[j]\n",
    "            flag = True\n",
    "            break\n",
    "    if flag:\n",
    "        break\n",
    "print(var_left, \" \", var_right)"
   ]
  },
  {
   "cell_type": "markdown",
   "id": "c2ebe4c0",
   "metadata": {},
   "source": [
    "# Advanced"
   ]
  },
  {
   "cell_type": "markdown",
   "id": "108275ee",
   "metadata": {},
   "source": [
    "## yield,generator and iterator"
   ]
  },
  {
   "cell_type": "code",
   "execution_count": 48,
   "id": "4e12e6f4",
   "metadata": {},
   "outputs": [],
   "source": [
    "g_built=(x**2 for x in range(1,10))"
   ]
  },
  {
   "cell_type": "markdown",
   "id": "a12cfa78",
   "metadata": {},
   "source": [
    "note that in python3.x, the ``next`` has become a built-in function and thus use ``next(g)`` rather ``g.next()``"
   ]
  },
  {
   "cell_type": "code",
   "execution_count": 49,
   "id": "92a4a458",
   "metadata": {},
   "outputs": [
    {
     "name": "stdout",
     "output_type": "stream",
     "text": [
      "1\n",
      "4\n",
      "9\n"
     ]
    }
   ],
   "source": [
    "print(next(g_built))\n",
    "print(next(g_built))\n",
    "print(next(g_built))"
   ]
  },
  {
   "cell_type": "markdown",
   "id": "cbacca3c",
   "metadata": {},
   "source": [
    "Like list,tuple and dict which can be iterately called by ``for`` function, the users can define their own sequence iterator with the help of ``yield`` function."
   ]
  },
  {
   "cell_type": "code",
   "execution_count": 45,
   "id": "379fe934",
   "metadata": {},
   "outputs": [],
   "source": [
    "def fibonacci():\n",
    "    a,b=0,1\n",
    "    while True:\n",
    "        yield a\n",
    "        a,b=b,a+b "
   ]
  },
  {
   "cell_type": "code",
   "execution_count": 46,
   "id": "b1b63662",
   "metadata": {},
   "outputs": [
    {
     "name": "stdout",
     "output_type": "stream",
     "text": [
      "0\n",
      "1\n",
      "1\n",
      "2\n",
      "3\n",
      "5\n",
      "8\n",
      "13\n",
      "21\n",
      "34\n",
      "55\n",
      "89\n"
     ]
    }
   ],
   "source": [
    "# generator function\n",
    "for e in fibonacci():\n",
    "    if e>100:\n",
    "        break\n",
    "    print(e)"
   ]
  },
  {
   "cell_type": "code",
   "execution_count": 52,
   "id": "1b59b9b8",
   "metadata": {},
   "outputs": [],
   "source": [
    "# generator object\n",
    "f_obj=fibonacci()"
   ]
  },
  {
   "cell_type": "code",
   "execution_count": 53,
   "id": "2183ea75",
   "metadata": {},
   "outputs": [
    {
     "name": "stdout",
     "output_type": "stream",
     "text": [
      "0\n",
      "1\n",
      "1\n"
     ]
    }
   ],
   "source": [
    "print(next(f_obj))\n",
    "print(next(f_obj))\n",
    "print(next(f_obj))"
   ]
  },
  {
   "cell_type": "markdown",
   "id": "81e002db",
   "metadata": {},
   "source": [
    "the two types(list... and yield-defined) are called ``Iterable`` class."
   ]
  },
  {
   "cell_type": "code",
   "execution_count": 54,
   "id": "76326328",
   "metadata": {},
   "outputs": [],
   "source": [
    "from collections.abc import Iterable"
   ]
  },
  {
   "cell_type": "code",
   "execution_count": 55,
   "id": "8a705178",
   "metadata": {},
   "outputs": [
    {
     "name": "stdout",
     "output_type": "stream",
     "text": [
      "True\n",
      "True\n",
      "True\n"
     ]
    }
   ],
   "source": [
    "print(isinstance([1,2,3],Iterable))\n",
    "print(isinstance(g_built,Iterable))\n",
    "print(isinstance(f_obj,Iterable))"
   ]
  },
  {
   "cell_type": "markdown",
   "id": "426870eb",
   "metadata": {},
   "source": [
    "But why bother to use **generator/iterator**? calculate once and forward(saving time and space)."
   ]
  },
  {
   "cell_type": "code",
   "execution_count": 64,
   "id": "c85c7dbd",
   "metadata": {},
   "outputs": [],
   "source": [
    "# iteration\n",
    "def fibonacci1(n):\n",
    "    assert isinstance(n,int) and n>=1, \"n shoule be a positive integer!\"\n",
    "    a,b=0,1\n",
    "    while n>1:\n",
    "        a,b=b,a+b \n",
    "        n-=1\n",
    "    return a"
   ]
  },
  {
   "cell_type": "code",
   "execution_count": 69,
   "id": "354c1f31",
   "metadata": {},
   "outputs": [],
   "source": [
    "# recursion\n",
    "def fibonacci1(n):\n",
    "    assert isinstance(n,int) and n>=1, \"n shoule be a positive integer!\"\n",
    "    if n==1:\n",
    "        return 0\n",
    "    elif n==2:\n",
    "        return 1\n",
    "    else:\n",
    "        return fibonacci1(n-2)+fibonacci1(n-1)"
   ]
  },
  {
   "cell_type": "code",
   "execution_count": 68,
   "id": "0a18cad1",
   "metadata": {},
   "outputs": [
    {
     "ename": "AssertionError",
     "evalue": "n shoule be a positive integer!",
     "output_type": "error",
     "traceback": [
      "\u001b[0;31m---------------------------------------------------------------------------\u001b[0m",
      "\u001b[0;31mAssertionError\u001b[0m                            Traceback (most recent call last)",
      "Input \u001b[0;32mIn [68]\u001b[0m, in \u001b[0;36m<cell line: 1>\u001b[0;34m()\u001b[0m\n\u001b[0;32m----> 1\u001b[0m \u001b[43mfibonacci1\u001b[49m\u001b[43m(\u001b[49m\u001b[38;5;241;43m0\u001b[39;49m\u001b[43m)\u001b[49m\n",
      "Input \u001b[0;32mIn [67]\u001b[0m, in \u001b[0;36mfibonacci1\u001b[0;34m(n)\u001b[0m\n\u001b[1;32m      2\u001b[0m \u001b[38;5;28;01mdef\u001b[39;00m \u001b[38;5;21mfibonacci1\u001b[39m(n):\n\u001b[0;32m----> 3\u001b[0m     \u001b[38;5;28;01massert\u001b[39;00m \u001b[38;5;28misinstance\u001b[39m(n,\u001b[38;5;28mint\u001b[39m) \u001b[38;5;129;01mand\u001b[39;00m n\u001b[38;5;241m>\u001b[39m\u001b[38;5;241m=\u001b[39m\u001b[38;5;241m1\u001b[39m, \u001b[38;5;124m\"\u001b[39m\u001b[38;5;124mn shoule be a positive integer!\u001b[39m\u001b[38;5;124m\"\u001b[39m\n\u001b[1;32m      4\u001b[0m     \u001b[38;5;28;01mif\u001b[39;00m n\u001b[38;5;241m==\u001b[39m\u001b[38;5;241m1\u001b[39m:\n\u001b[1;32m      5\u001b[0m         \u001b[38;5;28;01mreturn\u001b[39;00m \u001b[38;5;241m0\u001b[39m\n",
      "\u001b[0;31mAssertionError\u001b[0m: n shoule be a positive integer!"
     ]
    }
   ],
   "source": [
    "fibonacci1(0)"
   ]
  },
  {
   "cell_type": "code",
   "execution_count": 70,
   "id": "48472553",
   "metadata": {},
   "outputs": [
    {
     "name": "stdout",
     "output_type": "stream",
     "text": [
      "0\n",
      "1\n",
      "1\n",
      "2\n",
      "3\n",
      "5\n",
      "8\n",
      "13\n",
      "21\n",
      "34\n",
      "55\n",
      "89\n"
     ]
    }
   ],
   "source": [
    "for i in range(1,13):\n",
    "    print(fibonacci1(i))"
   ]
  },
  {
   "cell_type": "markdown",
   "id": "51630b2b",
   "metadata": {},
   "source": [
    " The [``itertools``](https://docs.python.org/3/library/itertools.html#module-itertools) module provided by Python can be useful in practice."
   ]
  },
  {
   "cell_type": "code",
   "execution_count": 56,
   "id": "f64d2001",
   "metadata": {},
   "outputs": [],
   "source": [
    "import itertools"
   ]
  },
  {
   "cell_type": "code",
   "execution_count": 57,
   "id": "6d8e58ca",
   "metadata": {},
   "outputs": [
    {
     "name": "stdout",
     "output_type": "stream",
     "text": [
      "1\n",
      "3\n",
      "6\n",
      "10\n",
      "15\n"
     ]
    }
   ],
   "source": [
    "for e in itertools.accumulate([1,2,3,4,5]):\n",
    "    print(e)"
   ]
  },
  {
   "cell_type": "code",
   "execution_count": 59,
   "id": "6f7b8312",
   "metadata": {},
   "outputs": [
    {
     "name": "stdout",
     "output_type": "stream",
     "text": [
      "(1, 4)\n",
      "(1, 6)\n",
      "(2, 4)\n",
      "(2, 6)\n",
      "(3, 4)\n",
      "(3, 6)\n"
     ]
    }
   ],
   "source": [
    "for e in itertools.product([1,2,3],[4,6]):\n",
    "#for x,y in itertools.product([1,2,3],[4,6]):\n",
    "    print(e)"
   ]
  },
  {
   "cell_type": "code",
   "execution_count": 60,
   "id": "00c9a3ab",
   "metadata": {},
   "outputs": [
    {
     "name": "stdout",
     "output_type": "stream",
     "text": [
      "(1, 2)\n",
      "(1, 3)\n",
      "(2, 1)\n",
      "(2, 3)\n",
      "(3, 1)\n",
      "(3, 2)\n"
     ]
    }
   ],
   "source": [
    "for e in itertools.permutations([1,2,3],2):\n",
    "    print(e)"
   ]
  },
  {
   "cell_type": "markdown",
   "id": "b232498f",
   "metadata": {},
   "source": [
    "## Recursion v.s. Iteration"
   ]
  },
  {
   "cell_type": "markdown",
   "id": "6795a46b",
   "metadata": {},
   "source": [
    "As we all learned Mathematical induction, we sometimes find it easy to write functions in recursive way(like the second ``fibonacci1`` function) but it usually costs more time and space, for detail visit the internet like [Converting Recursion to Iteration](https://www.cs.odu.edu/~zeil/cs361/latest/Public/recursionConversion/index.html). Therefore, it may be necceassy to convert recursion to iteration for the sake of time/space which can be made in most time(with the help of **stack** structure). If you wanna learn more, search the internet like [From Recursive to Iterative Functions](https://www.baeldung.com/cs/convert-recursion-to-iteration)."
   ]
  },
  {
   "cell_type": "markdown",
   "id": "8d65a86c-eca1-4caf-ae27-378343bf80c7",
   "metadata": {},
   "source": [
    "# HW\n",
    "- Finish reading [this section](https://www.liaoxuefeng.com/wiki/1016959663602400/1017063413904832)\n",
    "- Finish reading [this section](https://www.liaoxuefeng.com/wiki/1016959663602400/1017269809315232), especially [generator](https://www.liaoxuefeng.com/wiki/1016959663602400/1017318207388128) and [iterator](https://www.liaoxuefeng.com/wiki/1016959663602400/1017323698112640)"
   ]
  },
  {
   "cell_type": "code",
   "execution_count": null,
   "id": "d6ba8548-e2e9-4fb1-b6a0-acab901ef6bc",
   "metadata": {},
   "outputs": [],
   "source": []
  }
 ],
 "metadata": {
  "kernelspec": {
   "display_name": "Python 3 (ipykernel)",
   "language": "python",
   "name": "python3"
  },
  "language_info": {
   "codemirror_mode": {
    "name": "ipython",
    "version": 3
   },
   "file_extension": ".py",
   "mimetype": "text/x-python",
   "name": "python",
   "nbconvert_exporter": "python",
   "pygments_lexer": "ipython3",
   "version": "3.10.5"
  },
  "toc": {
   "base_numbering": 1,
   "nav_menu": {},
   "number_sections": true,
   "sideBar": true,
   "skip_h1_title": false,
   "title_cell": "Table of Contents",
   "title_sidebar": "Contents",
   "toc_cell": false,
   "toc_position": {},
   "toc_section_display": true,
   "toc_window_display": true
  }
 },
 "nbformat": 4,
 "nbformat_minor": 5
}
